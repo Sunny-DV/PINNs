{
  "nbformat": 4,
  "nbformat_minor": 0,
  "metadata": {
    "accelerator": "GPU",
    "colab": {
      "name": "Copy of 1D Diffusion Equation.ipynb",
      "provenance": [],
      "collapsed_sections": [
        "iY1uUF5BU3U-"
      ]
    },
    "kernelspec": {
      "display_name": "Python 3",
      "name": "python3"
    },
    "language_info": {
      "name": "python"
    }
  },
  "cells": [
    {
      "cell_type": "code",
      "metadata": {
        "colab": {
          "base_uri": "https://localhost:8080/"
        },
        "id": "UdZr0BsURJPx",
        "outputId": "ff972594-1bd7-41ae-b3f0-c18c6a6e7ed3"
      },
      "source": [
        "pip install pyDOE"
      ],
      "execution_count": null,
      "outputs": [
        {
          "output_type": "stream",
          "text": [
            "Collecting pyDOE\n",
            "  Downloading https://files.pythonhosted.org/packages/bc/ac/91fe4c039e2744466621343d3b8af4a485193ed0aab53af5b1db03be0989/pyDOE-0.3.8.zip\n",
            "Requirement already satisfied: numpy in /usr/local/lib/python3.7/dist-packages (from pyDOE) (1.19.5)\n",
            "Requirement already satisfied: scipy in /usr/local/lib/python3.7/dist-packages (from pyDOE) (1.4.1)\n",
            "Building wheels for collected packages: pyDOE\n",
            "  Building wheel for pyDOE (setup.py) ... \u001b[?25l\u001b[?25hdone\n",
            "  Created wheel for pyDOE: filename=pyDOE-0.3.8-cp37-none-any.whl size=18184 sha256=199391f4948378b5e3d9933a736d7af29d875bec00c526be958672810970a0b3\n",
            "  Stored in directory: /root/.cache/pip/wheels/7c/c8/58/a6493bd415e8ba5735082b5e0c096d7c1f2933077a8ce34544\n",
            "Successfully built pyDOE\n",
            "Installing collected packages: pyDOE\n",
            "Successfully installed pyDOE-0.3.8\n"
          ],
          "name": "stdout"
        }
      ]
    },
    {
      "cell_type": "code",
      "metadata": {
        "id": "GSeUpF1p7Xu1"
      },
      "source": [
        "%matplotlib inline"
      ],
      "execution_count": null,
      "outputs": []
    },
    {
      "cell_type": "code",
      "metadata": {
        "colab": {
          "base_uri": "https://localhost:8080/",
          "height": 53
        },
        "id": "VrcFkxKQROzQ",
        "outputId": "385f9931-896a-40bb-9ade-9ceed897085f"
      },
      "source": [
        "# imports\n",
        "\n",
        "import numpy as np \n",
        "import matplotlib as mpl\n",
        "import matplotlib.pyplot as plt \n",
        "# Edit the font, font size, and axes width\n",
        "mpl.rcParams['font.family'] = 'Avenir'\n",
        "plt.rcParams['font.size'] = 24\n",
        "plt.rcParams['axes.linewidth'] = 2\n",
        "mpl.rcParams['text.latex.preamble'] = [r'\\usepackage{sfmath} \\boldmath']\n",
        "#plt.style.use('seaborn-bright')\n",
        "import torch\n",
        "import torch.nn as nn\n",
        "from pyDOE import *\n",
        "from scipy.integrate import odeint\n",
        "import time\n",
        "device = \"cuda\" if torch.cuda.is_available() else \"cpu\"\n",
        "print(device)\n",
        "torch.__version__"
      ],
      "execution_count": null,
      "outputs": [
        {
          "output_type": "stream",
          "text": [
            "cuda\n"
          ],
          "name": "stdout"
        },
        {
          "output_type": "execute_result",
          "data": {
            "application/vnd.google.colaboratory.intrinsic+json": {
              "type": "string"
            },
            "text/plain": [
              "'1.8.1+cu101'"
            ]
          },
          "metadata": {
            "tags": []
          },
          "execution_count": 3
        }
      ]
    },
    {
      "cell_type": "code",
      "metadata": {
        "id": "0pm9hpW99XiN"
      },
      "source": [
        "torch.manual_seed(31)\n",
        "np.random.seed(31)"
      ],
      "execution_count": null,
      "outputs": []
    },
    {
      "cell_type": "code",
      "metadata": {
        "id": "iyqfysr_RUDA"
      },
      "source": [
        "class MLP(nn.Module):\n",
        "    def __init__(self, layers):\n",
        "        super(MLP,self).__init__()\n",
        "        'activation function'\n",
        "        self.activation = nn.Tanh()\n",
        "\n",
        "        'loss function'\n",
        "        self.loss_function = nn.MSELoss(reduction ='mean')\n",
        "    \n",
        "        'Initialise neural network as a list using nn.Modulelist'  \n",
        "        self.linears = nn.ModuleList([nn.Linear(layers[i], layers[i+1]) for i in range(len(layers)-1)])\n",
        "        \n",
        "        self.iter = 0\n",
        "        \n",
        "        \n",
        "    \n",
        "        'Xavier Normal Initialization'\n",
        "        \n",
        "        for i in range(len(layers)-1):\n",
        "            \n",
        "            # weights from a normal distribution \n",
        "            \n",
        "            nn.init.xavier_normal_(self.linears[i].weight.data, gain=1.0)\n",
        "            \n",
        "            # set biases to zero\n",
        "            nn.init.zeros_(self.linears[i].bias.data)\n",
        "            \n",
        "    'foward pass'\n",
        "    def forward(self,x):\n",
        "       \n",
        "        \n",
        "        for i in range(len(layers)-2):\n",
        "            \n",
        "            z = self.linears[i](x)\n",
        "                        \n",
        "            x = self.activation(z)\n",
        "            \n",
        "        x = self.linears[-1](x)\n",
        "        return x\n",
        "\n",
        "    \n",
        "    def loss_bc_init(self,x,y):\n",
        "      loss_u = self.loss_function(self.forward(x), y)\n",
        "      return loss_u\n",
        "\n",
        "    def loss_initernal(self, x_train):\n",
        "      x_train.requires_grad = True\n",
        "      p = self.forward(x_train)\n",
        "      u_g = gradients(p, x_train)[0]\n",
        "      u_x, u_t= u_g[:, 0], u_g[:, [1]]\n",
        "      u_xx = gradients(u_x, x_train)[0][:, [0]]\n",
        "      pde = u_t - D*u_xx\n",
        "      loss_pde = pde.pow(2).mean()\n",
        "      return loss_pde\n",
        "\n",
        "    def loss(self,x,y,x_to_train_f):\n",
        "\n",
        "        loss_u = self.loss_bc_init(init_cond_train,u_init_cond_train)\n",
        "        loss_f = self.loss_initernal(f_train)\n",
        "        \n",
        "        loss_val = loss_u + loss_f\n",
        "        \n",
        "        return loss_val\n",
        "\n",
        "    def closure(self):\n",
        "        \n",
        "        optimizer.zero_grad()\n",
        "        \n",
        "        loss = self.loss(init_cond_train, u_init_cond_train, f_train)\n",
        "        \n",
        "        \n",
        "        loss.backward()\n",
        "                \n",
        "        self.iter += 1\n",
        "        \n",
        "        return loss    \n",
        "          \n",
        "      "
      ],
      "execution_count": null,
      "outputs": []
    },
    {
      "cell_type": "code",
      "metadata": {
        "id": "RREFmlDxRXJb"
      },
      "source": [
        "def gradients(outputs, inputs):\n",
        "     return torch.autograd.grad(outputs, inputs, grad_outputs=torch.ones_like(outputs), create_graph=True)\n",
        "\n",
        "def nptoTensor(data):\n",
        "     return torch.from_numpy(data).to(device).float()\n"
      ],
      "execution_count": null,
      "outputs": []
    },
    {
      "cell_type": "code",
      "metadata": {
        "id": "Lek7lkFfRcCu"
      },
      "source": [
        "def trainingdata(Nx,Nt,Nf,Nu):\n",
        "    x = np.linspace(0,1,Nx)\n",
        "    t = np.linspace(0,1,Nt)\n",
        "    X, T = np.meshgrid(x,t)\n",
        "\n",
        "    intial_condition = np.hstack((X[0,:][:,None], T[0,:][:,None]))\n",
        "    u_inital = np.sin(np.pi*x).reshape(-1,1)\n",
        "\n",
        "    left_bc = np.hstack((X[:,0][:,None], T[:,0][:,None]))\n",
        "    u_left_bc =  np.zeros(len(t)).reshape(-1,1)\n",
        "\n",
        "    right_bc = np.hstack((X[:,-1][:,None], T[:,0][:,None]))\n",
        "    u_right_bc =  np.zeros(len(t)).reshape(-1,1)\n",
        "\n",
        "    all_Init_bcs = np.vstack([intial_condition, left_bc, right_bc])\n",
        "    all_u_init_bcs = np.vstack([u_inital, u_left_bc, u_right_bc])\n",
        "\n",
        "    idx = np.random.choice(all_Init_bcs.shape[0],Nu, replace=False)\n",
        "\n",
        "    all_Init_bcs = all_Init_bcs[idx,:]\n",
        "    all_u_init_bcs = all_u_init_bcs[idx,:]\n",
        "\n",
        "    f_train = lhs(2,Nf)\n",
        "    f_train = np.vstack((f_train, all_Init_bcs))\n",
        "\n",
        "    return all_Init_bcs , all_u_init_bcs , f_train"
      ],
      "execution_count": null,
      "outputs": []
    },
    {
      "cell_type": "code",
      "metadata": {
        "id": "REQx_m2KRfV9"
      },
      "source": [
        "N_u = 300 # Random point\n",
        "N_x = 100 #Total number of data points for 'x'\n",
        "N_t = 100 #Total number of data points for 't'\n",
        "N_f = 10000 #Total number of collocation points \n",
        "init_cond_train_np_array, u_init_cond_train_np_array, f_train_np_array = trainingdata(N_x,N_t,N_f, N_u)\n",
        "\n"
      ],
      "execution_count": null,
      "outputs": []
    },
    {
      "cell_type": "code",
      "metadata": {
        "id": "uaz8nxHNVLML"
      },
      "source": [
        "init_cond_train = nptoTensor(init_cond_train_np_array)\n",
        "u_init_cond_train = nptoTensor(u_init_cond_train_np_array)\n",
        "f_train = nptoTensor(f_train_np_array)\n",
        "D = .1\n",
        "layers = np.array([2,32,32,32,32,32,32,32,32,32,32,1])\n",
        "mlp = MLP(layers).to(device)"
      ],
      "execution_count": null,
      "outputs": []
    },
    {
      "cell_type": "code",
      "metadata": {
        "id": "IZ9D0uTzfUV0"
      },
      "source": [
        "step_size = 20000\n",
        "gamma = 0.5\n",
        "A_hist = []\n",
        "optimizer = torch.optim.Adam(mlp.parameters(), lr=0.0001,betas=(0.9, 0.999), eps=1e-08, weight_decay=0, amsgrad=False)\n",
        "#scheduler = torch.optim.lr_scheduler.StepLR(optimizer, step_size=step_size, gamma=gamma)\n",
        "max_iter = 10000\n",
        "\n",
        "tic = time.time()\n",
        "\n",
        "for i in range(max_iter):\n",
        "\n",
        "     loss = mlp.loss(init_cond_train, u_init_cond_train, f_train)\n",
        "     A_hist.append([i,loss]) \n",
        "     loss.backward() #backprop\n",
        "     optimizer.step()\n",
        "     optimizer.zero_grad()     # zeroes the gradient buffers of all parameters\n",
        "     \n",
        "     if (i+1) % 10000 == 0:\n",
        "          print(\"Epoch: {}, MSE: {:.6f}\".format((i+1), loss))\n",
        "\n",
        "toc = time.time()\n",
        "print(f'total training time in minutes: {(toc-tic)/60}')\n"
      ],
      "execution_count": null,
      "outputs": []
    },
    {
      "cell_type": "code",
      "metadata": {
        "id": "9-gacZDDupi3"
      },
      "source": [
        "#Save the model\n",
        "path = '1-Diffusion_PDE.pth'\n",
        "torch.save(mlp.state_dict(), path)"
      ],
      "execution_count": null,
      "outputs": []
    },
    {
      "cell_type": "code",
      "metadata": {
        "colab": {
          "base_uri": "https://localhost:8080/"
        },
        "id": "8uOtIZFa2d2T",
        "outputId": "3aa71cd3-e7a6-4202-c52c-b936416851cd"
      },
      "source": [
        "#Load the model\n",
        "path = '/content/1-Diffusion_PDE (2).pth'\n",
        "mlp.load_state_dict(torch.load(path))\n",
        "mlp.eval()"
      ],
      "execution_count": null,
      "outputs": [
        {
          "output_type": "execute_result",
          "data": {
            "text/plain": [
              "MLP(\n",
              "  (activation): Tanh()\n",
              "  (loss_function): MSELoss()\n",
              "  (linears): ModuleList(\n",
              "    (0): Linear(in_features=2, out_features=32, bias=True)\n",
              "    (1): Linear(in_features=32, out_features=32, bias=True)\n",
              "    (2): Linear(in_features=32, out_features=32, bias=True)\n",
              "    (3): Linear(in_features=32, out_features=32, bias=True)\n",
              "    (4): Linear(in_features=32, out_features=32, bias=True)\n",
              "    (5): Linear(in_features=32, out_features=32, bias=True)\n",
              "    (6): Linear(in_features=32, out_features=32, bias=True)\n",
              "    (7): Linear(in_features=32, out_features=32, bias=True)\n",
              "    (8): Linear(in_features=32, out_features=32, bias=True)\n",
              "    (9): Linear(in_features=32, out_features=32, bias=True)\n",
              "    (10): Linear(in_features=32, out_features=1, bias=True)\n",
              "  )\n",
              ")"
            ]
          },
          "metadata": {
            "tags": []
          },
          "execution_count": 10
        }
      ]
    },
    {
      "cell_type": "code",
      "metadata": {
        "id": "d_1XsOxJu-9n"
      },
      "source": [
        "#Save the model for C++ Environment\n",
        "\n",
        "# Load a sample image\n",
        "model = MLP(layers)\n",
        "state_dict = torch.load('/content/1-Diffusion_PDE (2).pth')\n",
        "model.load_state_dict(state_dict)\n",
        "model.eval()\n",
        "example = torch.rand(1,2)\n",
        "\n",
        "# run the tracing\n",
        "traced_script_module = torch.jit.trace(model, example)\n",
        "# save the converted model\n",
        "#traced_script_module.save(\"Diffusion_PDE.pt\")\n",
        "torch.jit.save(traced_script_module,\"Diffusion_PDE.pt\")\n",
        "loaded = torch.jit.load(\"Diffusion_PDE.pt\")\n",
        "\n"
      ],
      "execution_count": null,
      "outputs": []
    },
    {
      "cell_type": "code",
      "metadata": {
        "id": "LediZxKUiG6d"
      },
      "source": [
        "A_hist = np.array(A_hist)\n",
        "fig = plt.figure(figsize=(15, 5))\n",
        "ax = fig.add_axes([0, 0, 1, 1])\n",
        "# Show the major grid lines with dark grey lines\n",
        "ax.grid(b=True, which='major', color='#666666', linestyle='-')\n",
        "# Show the minor grid lines with very faint and almost transparent grey lines\n",
        "ax.minorticks_on()\n",
        "ax.grid(b=True, which='minor', color='#555555', linestyle='-', alpha=0.1)\n",
        "ax.plot(A_hist[:,0], A_hist[:,1],linewidth=2, label='Learning')\n",
        "ax.legend( loc='best', frameon=True, fontsize=22)\n",
        "\n",
        "ax.semilogy()\n",
        "ax.set_xlabel('Epochs', labelpad=10)\n",
        "ax.set_ylabel('Training Loss', labelpad=10)\n",
        "plt.savefig('Activation.png', dpi=300, transparent=False, bbox_inches='tight')\n"
      ],
      "execution_count": null,
      "outputs": []
    },
    {
      "cell_type": "code",
      "metadata": {
        "id": "KxHI6JjdmmOg"
      },
      "source": [
        "def central_difference():\n",
        "    return u[n][i] + delta_t*(alpha * (u[n][i+1] - 2*u[n][i] + u[n][i-1])/(delta_x)**2)\n",
        "\n",
        "alpha = .1\n",
        "points_in_x = 20\n",
        "\n",
        "x =np.linspace(0,1,points_in_x)\n",
        "delta_x = x[1] - x[0]\n",
        "\n",
        "delta_t = 0.5*delta_x**2/alpha\n",
        "#delta_t = .002\n",
        "points_in_t = 1./delta_t\n",
        "\n",
        "# y = np.linspace(0,1,11)\n",
        "# delta_x = y[1] - y[0]\n",
        "\n",
        "t = np.linspace(0,1,int(points_in_t))\n",
        "delta_t = t[1] - t[0]\n",
        "\n",
        "u = np.zeros((len(t),len(x)))\n",
        "\n",
        "u[: , 0] = 0                         # left boundary\n",
        "u[: , len(x)-1] = 0                  # right boundary\n",
        "\n",
        "#u[ 0 , 1:len(x)-1 ] = (1 - x[1:len(x)-1])*x[1:len(x)-1]*4              # initial condition\n",
        "u[ 0 , 1:len(x)-1 ] = np.sin(np.pi*x[1:len(x)-1])          # initial condition\n",
        "#u[ 0 , int(len(x)/2) ] = 1                              # point source initial condition\n",
        "#u[ 0 , :len(x)-1 ] = 0          # initial condition\n",
        "\n",
        "\n",
        "for n in range(0 , len(t)-1):\n",
        "    for i in range(1 , len(x)-1):\n",
        "        u[n+1][i] = central_difference()\n",
        "\n"
      ],
      "execution_count": null,
      "outputs": []
    },
    {
      "cell_type": "code",
      "metadata": {
        "colab": {
          "base_uri": "https://localhost:8080/",
          "height": 482
        },
        "id": "tpQu90NtGXOC",
        "outputId": "e8b6fc6c-9444-4800-cf6d-428c2190ad92"
      },
      "source": [
        "fig = plt.figure(figsize=(8, 5))\n",
        "ax = fig.add_axes([0, 0, 1, 1])\n",
        "img = ax.contourf(x,t,u,levels=np.linspace(0, 1, 25),cmap = 'rainbow')\n",
        "fig.colorbar(img)\n",
        "ax.grid()\n",
        "ax.set_xlabel('x', labelpad=10)\n",
        "ax.set_ylabel('u', labelpad=10)\n",
        "plt.savefig('1DFDM.png', dpi=300, transparent=False, bbox_inches='tight')"
      ],
      "execution_count": null,
      "outputs": [
        {
          "output_type": "stream",
          "text": [
            "findfont: Font family ['Avenir'] not found. Falling back to DejaVu Sans.\n"
          ],
          "name": "stderr"
        },
        {
          "output_type": "display_data",
          "data": {
            "image/png": "[encoded data removed]",
            "text/plain": [
              "<Figure size 576x360 with 2 Axes>"
            ]
          },
          "metadata": {
            "tags": [],
            "needs_background": "light"
          }
        }
      ]
    },
    {
      "cell_type": "code",
      "metadata": {
        "id": "JsjAA6YyeuRO"
      },
      "source": [
        "def build_mesh(N, t):\n",
        "    x = np.linspace(0,1,N)\n",
        "    _t = np.array([t])\n",
        "    m = np.meshgrid(x, _t)\n",
        "    m = np.stack(m, -1).reshape(-1, 2)\n",
        "    return x, t, m\n",
        "\n",
        "x1, t1, m1 = build_mesh(20, 0)\n",
        "x2, t2, m2 = build_mesh(20, .25)\n",
        "x3, t3, m3 = build_mesh(20, .5)\n",
        "x4, t4, m4 = build_mesh(20, .75)\n",
        "x5, t5, m5 = build_mesh(20, 1)\n"
      ],
      "execution_count": null,
      "outputs": []
    },
    {
      "cell_type": "code",
      "metadata": {
        "id": "pewu9jPmexRk"
      },
      "source": [
        "def eval_model(m):\n",
        "    mlp.eval()\n",
        "    with torch.no_grad():\n",
        "        p = mlp(torch.tensor(m).float().to(device)).cpu().numpy()\n",
        "    return p\n",
        "\n",
        "p1 = eval_model(m1)\n",
        "p2 = eval_model(m2)\n",
        "p3 = eval_model(m3)\n",
        "p4 = eval_model(m4)\n",
        "p5= eval_model(m5)\n"
      ],
      "execution_count": null,
      "outputs": []
    },
    {
      "cell_type": "code",
      "metadata": {
        "id": "ZQ7fNU8-e1zP"
      },
      "source": [
        "def plot_model(x, p, t,u_fdm):\n",
        "    pe = np.sin(np.pi*x)*np.exp((-.1*t)*(np.pi**2))\n",
        "    fig = plt.figure(figsize=(8, 5))\n",
        "    ax = fig.add_axes([0, 0, 1, 1])\n",
        "    ax.set_xlim([-0.03, 1.03])\n",
        "    ax.set_ylim([-0.03, 1.03])\n",
        "    ax.plot(x, pe,color = 'k',linestyle = '-',linewidth=6, label=\"Exact\")\n",
        "    ax.plot(x, p, ms=25, marker='X', color = 'r',linestyle = 'None',label=\"NN solution\")\n",
        "    ax.plot(x, u_fdm, ms=12, marker='s', color = 'g',linestyle = 'None',label=\"FDM solution\")\n",
        "    ax.set_xlabel('x', labelpad=10)\n",
        "    ax.set_ylabel('u(x,t)', labelpad=10)\n",
        "    # Show the major grid lines with dark grey lines\n",
        "    ax.grid(b=True, which='major', color='#666666', linestyle='-')\n",
        "    # Show the minor grid lines with very faint and almost transparent grey lines\n",
        "    ax.minorticks_on()\n",
        "    ax.grid(b=True, which='minor', color='#555555', linestyle='-', alpha=0.1)\n",
        "    #ax.legend(loc='upper center', bbox_to_anchor=(0.5, -0.2),\n",
        "         # frameon=False, shadow=False, ncol=3, fontsize=22)\n",
        "    ax.legend( loc='best', frameon=False, facecolor='#9BC7C8', framealpha=2,fontsize=22)\n",
        "    l2 = np.sqrt(np.sum((pe-p.T)**2))/(np.sqrt(np.sum(pe)**2))\n",
        "    l2_fdm = np.sqrt(np.sum((pe-u_fdm)**2))/(np.sqrt(np.sum(pe)**2))\n",
        "    \n",
        "    #plt.title(f\"t = {t:.3f} (L2_NN = {l2:.7f}) (L2_FDM = {l2_fdm:.7f})\")\n",
        "    plt.savefig(f\"t = {t:.3f}.png\", dpi=600, transparent=False, bbox_inches='tight')\n",
        "    plt.show()\n",
        "    \n"
      ],
      "execution_count": null,
      "outputs": []
    },
    {
      "cell_type": "code",
      "metadata": {
        "id": "XtupOVvISZzY"
      },
      "source": [
        "plot_model(x1, p1, t1,u[0,:])\n",
        "plot_model(x2, p2, t2, u[17,:])\n",
        "plot_model(x3, p3, t3, u[35,:])\n",
        "plot_model(x4, p4, t4, u[53,:])\n",
        "plot_model(x5, p5, t5, u[-1,:])"
      ],
      "execution_count": null,
      "outputs": []
    }
  ]
}