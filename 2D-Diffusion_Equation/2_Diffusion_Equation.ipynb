{
  "nbformat": 4,
  "nbformat_minor": 0,
  "metadata": {
    "accelerator": "GPU",
    "colab": {
      "name": "Copy of 2 Diffusion Equation.ipynb",
      "provenance": [],
      "collapsed_sections": [
        "iY1uUF5BU3U-"
      ]
    },
    "kernelspec": {
      "display_name": "Python 3",
      "name": "python3"
    },
    "language_info": {
      "name": "python"
    }
  },
  "cells": [
    {
      "cell_type": "code",
      "metadata": {
        "colab": {
          "base_uri": "https://localhost:8080/"
        },
        "id": "UdZr0BsURJPx",
        "outputId": "3f36bcc1-fc46-4504-ef32-857a1a785d99"
      },
      "source": [
        "pip install pyDOE"
      ],
      "execution_count": null,
      "outputs": [
        {
          "output_type": "stream",
          "text": [
            "Collecting pyDOE\n",
            "  Downloading https://files.pythonhosted.org/packages/bc/ac/91fe4c039e2744466621343d3b8af4a485193ed0aab53af5b1db03be0989/pyDOE-0.3.8.zip\n",
            "Requirement already satisfied: numpy in /usr/local/lib/python3.7/dist-packages (from pyDOE) (1.19.5)\n",
            "Requirement already satisfied: scipy in /usr/local/lib/python3.7/dist-packages (from pyDOE) (1.4.1)\n",
            "Building wheels for collected packages: pyDOE\n",
            "  Building wheel for pyDOE (setup.py) ... \u001b[?25l\u001b[?25hdone\n",
            "  Created wheel for pyDOE: filename=pyDOE-0.3.8-cp37-none-any.whl size=18184 sha256=be281664678a7d8d3917cb1e2bbd49da044e0de04772b17e8a6d3eee3b45c1f5\n",
            "  Stored in directory: /root/.cache/pip/wheels/7c/c8/58/a6493bd415e8ba5735082b5e0c096d7c1f2933077a8ce34544\n",
            "Successfully built pyDOE\n",
            "Installing collected packages: pyDOE\n",
            "Successfully installed pyDOE-0.3.8\n"
          ],
          "name": "stdout"
        }
      ]
    },
    {
      "cell_type": "code",
      "metadata": {
        "id": "GSeUpF1p7Xu1"
      },
      "source": [
        "%matplotlib inline"
      ],
      "execution_count": null,
      "outputs": []
    },
    {
      "cell_type": "code",
      "metadata": {
        "colab": {
          "base_uri": "https://localhost:8080/",
          "height": 53
        },
        "id": "VrcFkxKQROzQ",
        "outputId": "e4b34623-6c94-4a49-c33c-61260026b8eb"
      },
      "source": [
        "# imports\n",
        "\n",
        "import numpy as np \n",
        "import matplotlib as mpl\n",
        "import matplotlib.pyplot as plt \n",
        "# Edit the font, font size, and axes width\n",
        "mpl.rcParams['font.family'] = 'Avenir'\n",
        "plt.rcParams['font.size'] = 24\n",
        "plt.rcParams['axes.linewidth'] = 2\n",
        "mpl.rcParams['text.latex.preamble'] = [r'\\usepackage{sfmath} \\boldmath']\n",
        "#plt.style.use('seaborn-bright')\n",
        "import torch\n",
        "import torch.nn as nn\n",
        "from pyDOE import *\n",
        "from scipy.integrate import odeint\n",
        "import time\n",
        "device = \"cuda\" if torch.cuda.is_available() else \"cpu\"\n",
        "print(device)\n",
        "torch.__version__"
      ],
      "execution_count": null,
      "outputs": [
        {
          "output_type": "stream",
          "text": [
            "cpu\n"
          ],
          "name": "stdout"
        },
        {
          "output_type": "execute_result",
          "data": {
            "application/vnd.google.colaboratory.intrinsic+json": {
              "type": "string"
            },
            "text/plain": [
              "'1.8.1+cu101'"
            ]
          },
          "metadata": {
            "tags": []
          },
          "execution_count": 3
        }
      ]
    },
    {
      "cell_type": "code",
      "metadata": {
        "id": "0pm9hpW99XiN"
      },
      "source": [
        "torch.manual_seed(31)\n",
        "np.random.seed(31)"
      ],
      "execution_count": null,
      "outputs": []
    },
    {
      "cell_type": "code",
      "metadata": {
        "id": "iyqfysr_RUDA"
      },
      "source": [
        "class MLP(nn.Module):\n",
        "    def __init__(self, layers):\n",
        "        super(MLP,self).__init__()\n",
        "        'activation function'\n",
        "        self.activation = nn.Tanh()\n",
        "\n",
        "        'loss function'\n",
        "        self.loss_function = nn.MSELoss(reduction ='mean')\n",
        "    \n",
        "        'Initialise neural network as a list using nn.Modulelist'  \n",
        "        self.linears = nn.ModuleList([nn.Linear(layers[i], layers[i+1]) for i in range(len(layers)-1)])\n",
        "        \n",
        "        self.iter = 0\n",
        "        \n",
        "        \n",
        "    \n",
        "        'Xavier Normal Initialization'\n",
        "        \n",
        "        for i in range(len(layers)-1):\n",
        "            \n",
        "            # weights from a normal distribution with \n",
        "           \n",
        "            nn.init.xavier_normal_(self.linears[i].weight.data, gain=1.0)\n",
        "            \n",
        "            # set biases to zero\n",
        "            nn.init.zeros_(self.linears[i].bias.data)\n",
        "            \n",
        "    'foward pass'\n",
        "    def forward(self,x):\n",
        "       \n",
        "        \n",
        "        for i in range(len(layers)-2):\n",
        "            \n",
        "            z = self.linears[i](x)\n",
        "                        \n",
        "            x = self.activation(z)\n",
        "            \n",
        "        x = self.linears[-1](x)\n",
        "        #print(x)\n",
        "        \n",
        "        return x\n",
        "\n",
        "    \n",
        "    def loss_bc_init(self,x,y):\n",
        "      loss_u = self.loss_function(self.forward(x), y)\n",
        "      return loss_u\n",
        "\n",
        "    def loss_initernal(self, x_train):\n",
        "      x_train.requires_grad = True\n",
        "      p = self.forward(x_train)\n",
        "      u_g = gradients(p, x_train)[0]\n",
        "      u_x, u_y, u_t= u_g[:, [0]], u_g[:,[1]] , u_g[:,[2]]\n",
        "      u_xx = gradients(u_x, x_train)[0][:, [0]]\n",
        "      u_yy = gradients(u_y, x_train)[0][:, [1]]\n",
        "      \n",
        "      pde = u_t - D*(u_xx + u_yy)\n",
        "      loss_pde = pde.pow(2).mean()\n",
        "      return loss_pde\n",
        "\n",
        "    def loss(self,x,y,x_to_train_f):\n",
        "\n",
        "        loss_u = self.loss_bc_init(init_cond_train,u_init_cond_train)\n",
        "        loss_f = self.loss_initernal(f_train)\n",
        "        \n",
        "        loss_val = loss_u + loss_f\n",
        "        \n",
        "        return loss_val\n",
        "\n",
        "   \n",
        "          \n",
        "      "
      ],
      "execution_count": null,
      "outputs": []
    },
    {
      "cell_type": "markdown",
      "metadata": {
        "id": "13Z2eCLpB1eJ"
      },
      "source": [
        "##Training DaTA"
      ]
    },
    {
      "cell_type": "code",
      "metadata": {
        "id": "RREFmlDxRXJb"
      },
      "source": [
        "def gradients(outputs, inputs):\n",
        "     return torch.autograd.grad(outputs, inputs, grad_outputs=torch.ones_like(outputs), create_graph=True)\n",
        "\n",
        "def nptoTensor(data):\n",
        "     return torch.from_numpy(data).to(device).float()\n",
        "def u_2d(x_2d):\n",
        "  return np.sin(np.pi*x_2d[:,0])*np.sin(np.pi*x_2d[:,1])\n"
      ],
      "execution_count": null,
      "outputs": []
    },
    {
      "cell_type": "code",
      "metadata": {
        "id": "Lek7lkFfRcCu"
      },
      "source": [
        "def trainingdata(Nx,Ny,Nt,Nf,Nu):\n",
        "    x = np.linspace(0,1,Nx)\n",
        "    y = np.linspace(0,1,Ny)\n",
        "    t = np.linspace(0,1,Nt)\n",
        "    X, Y = np.meshgrid(x,y)\n",
        "\n",
        "    x_2d = np.concatenate((X.flatten()[:,None], Y.flatten()[:,None]), axis=1)\n",
        "    t_2d = np.zeros((Nx*Ny,1))\n",
        "    intial_condition = np.concatenate((x_2d,t_2d), axis = 1)\n",
        "       \n",
        "    u_inital = u_2d(x_2d)[:,None]\n",
        "    \n",
        "\n",
        "    lower_x = np.concatenate((X[:,0][:,None], Y[:,0][:,None]), axis = 1)\n",
        "    lower_x = np.tile(lower_x,[int(Nt/Nx),1])\n",
        "    lower_x = np.concatenate((lower_x,t[:,None]), axis = 1)\n",
        "    u_lower_x_bc =  np.zeros(Nt)[:,None]\n",
        "\n",
        "    upper_x = np.concatenate((X[:,-1][:,None], Y[:,0][:,None]), axis = 1)\n",
        "    upper_x = np.tile(upper_x,[int(Nt/Nx),1])\n",
        "    upper_x = np.concatenate((upper_x,t[:,None]), axis = 1)\n",
        "    u_upper_x_bc =  np.zeros(Nt)[:,None]\n",
        "\n",
        "    right_y = np.concatenate((X[0,:][:,None], Y[-1,:][:,None]), axis = 1)\n",
        "    right_y = np.tile(right_y,[int(Nt/Nx),1])\n",
        "    right_y = np.concatenate((right_y,t[:,None]), axis = 1)\n",
        "    u_right_y_bc =  np.zeros(Nt)[:,None]\n",
        "\n",
        "    left_y = np.concatenate((X[0,:][:,None], Y[0,:][:,None]), axis = 1)\n",
        "    left_y = np.tile(left_y,[int(Nt/Nx),1])\n",
        "    left_y = np.concatenate((left_y,t[:,None]), axis = 1)\n",
        "\n",
        "    u_left_y_bc =  np.zeros(Nt)[:,None]\n",
        "\n",
        "    all_Init_bcs = np.vstack([intial_condition, lower_x , upper_x , right_y , left_y])\n",
        "    all_u_init_bcs = np.vstack([u_inital, u_lower_x_bc , u_upper_x_bc, u_right_y_bc, u_left_y_bc])\n",
        "\n",
        "    idx = np.random.choice(all_Init_bcs.shape[0],Nu, replace=False)\n",
        "\n",
        "    all_Init_bcs = all_Init_bcs[idx,:]\n",
        "    all_u_init_bcs = all_u_init_bcs[idx,:]\n",
        "\n",
        "    f_train = lhs(3,Nf)\n",
        "    f_train = np.vstack((f_train, all_Init_bcs))\n",
        "\n",
        "    return all_Init_bcs , all_u_init_bcs , f_train"
      ],
      "execution_count": null,
      "outputs": []
    },
    {
      "cell_type": "code",
      "metadata": {
        "id": "y2CZlYQybIIb"
      },
      "source": [
        "def trainingdata(Nx,Ny,Nt,Nf,Nu):\n",
        "    x = np.linspace(0,1,Nx)\n",
        "    y = np.linspace(0,1,Ny)\n",
        "    t = np.linspace(0,1,Nt)\n",
        "    X, Y = np.meshgrid(x,y)\n",
        "\n",
        "    x_2d = np.concatenate((X.flatten()[:,None], Y.flatten()[:,None]), axis=1)\n",
        "    t_2d = np.zeros((Nx*Ny,1))\n",
        "    intial_condition = np.concatenate((x_2d,t_2d), axis = 1)\n",
        "       \n",
        "    u_inital = u_2d(x_2d)[:,None]\n",
        "    \n",
        "\n",
        "\n",
        "    lower_x = np.concatenate((X[:,0][:,None], Y[:,0][:,None]), axis = 1)\n",
        "    upper_x = np.concatenate((X[:,-1][:,None], Y[:,0][:,None]), axis = 1)\n",
        "    right_y = np.concatenate((X[0,:][:,None], Y[-1,:][:,None]), axis = 1)\n",
        "    left_y = np.concatenate((X[0,:][:,None], Y[0,:][:,None]), axis = 1)\n",
        "    x_bound = np.vstack([lower_x , upper_x , right_y , left_y])\n",
        "    \n",
        "    x_bound_ext = np.tile(x_bound, [Nt, 1])\n",
        "    t_bound_ext = np.tile(t[:,None], [Nx*4, 1])\n",
        "    xt_bound_ext = np.concatenate((x_bound_ext, t_bound_ext), axis=1)\n",
        "    u_bound_ext =  np.zeros((Nx*4*Nt))[:,None]   \n",
        "    \n",
        "    \n",
        "\n",
        "    all_Init_bcs = np.vstack([intial_condition, xt_bound_ext])\n",
        "    all_u_init_bcs = np.vstack([u_inital, u_bound_ext])\n",
        "    \n",
        "\n",
        "    #idx = np.random.choice(all_Init_bcs.shape[0],Nu, replace=False)\n",
        "    ldx = np.random.permutation(all_Init_bcs.shape[0])\n",
        "\n",
        "    all_Init_bcs = all_Init_bcs[ldx]\n",
        "    all_u_init_bcs = all_u_init_bcs[ldx]\n",
        "    \n",
        "    f_train = lhs(3,Nf)\n",
        "    f_train = np.vstack((f_train, all_Init_bcs))\n",
        "\n",
        "    return all_Init_bcs , all_u_init_bcs , f_train"
      ],
      "execution_count": null,
      "outputs": []
    },
    {
      "cell_type": "code",
      "metadata": {
        "id": "REQx_m2KRfV9"
      },
      "source": [
        "N_u = 500 # Random point\n",
        "N_x = 30 #Total number of data points for 'x'\n",
        "N_y = 30 #Total number of data points for 'y'\n",
        "N_t = 50 #Total number of data points for 't'\n",
        "N_f = 10000 #Total number of collocation points \n",
        "init_cond_train_np_array, u_init_cond_train_np_array, f_train_np_array = trainingdata(N_x,N_y,N_t,N_f, N_u)"
      ],
      "execution_count": null,
      "outputs": []
    },
    {
      "cell_type": "markdown",
      "metadata": {
        "id": "-KTyymK7VHE7"
      },
      "source": [
        "## Model Training "
      ]
    },
    {
      "cell_type": "code",
      "metadata": {
        "id": "uaz8nxHNVLML"
      },
      "source": [
        "init_cond_train = nptoTensor(init_cond_train_np_array)\n",
        "u_init_cond_train = nptoTensor(u_init_cond_train_np_array)\n",
        "f_train = nptoTensor(f_train_np_array)\n",
        "D = .1\n",
        "neurons = 50\n",
        "#neurons1 = 25\n",
        "#neurons2 = 28\n",
        "layers = np.array([3,neurons,neurons,neurons,neurons,neurons,neurons,neurons,neurons,neurons,neurons,neurons,neurons,neurons,1])\n",
        "#layers = np.array([3,300,150,75,60,32,32,1])\n",
        "mlp = MLP(layers).to(device)"
      ],
      "execution_count": null,
      "outputs": []
    },
    {
      "cell_type": "code",
      "metadata": {
        "colab": {
          "base_uri": "https://localhost:8080/"
        },
        "id": "IZ9D0uTzfUV0",
        "outputId": "845e41da-b26d-4f4f-d4ca-8c05073cdf09"
      },
      "source": [
        "step_size = 10000\n",
        "gamma = .1\n",
        "A_hist = []\n",
        "optimizer = torch.optim.Adam(mlp.parameters(), lr=0.0001,betas=(0.9, 0.999), eps=1e-08, weight_decay=0, amsgrad=False)\n",
        "scheduler = torch.optim.lr_scheduler.StepLR(optimizer, step_size=step_size, gamma=gamma)\n",
        "max_iter = 35000\n",
        "\n",
        "tic = time.time()\n",
        "\n",
        "for i in range(max_iter):\n",
        "\n",
        "     loss = mlp.loss(init_cond_train, u_init_cond_train, f_train)\n",
        "     A_hist.append([i,loss]) \n",
        "     loss.backward() #backprop\n",
        "     optimizer.step()\n",
        "     optimizer.zero_grad()     # zeroes the gradient buffers of all parameters\n",
        "     \n",
        "     if (i+1) % 1000 == 0:\n",
        "          print(\"Epoch: {}, MSE: {:.6f}\".format((i+1), loss))\n",
        "\n",
        "toc = time.time()\n",
        "print(f'total training time in minutes: {(toc-tic)/60}')"
      ],
      "execution_count": null,
      "outputs": [
        {
          "output_type": "stream",
          "text": [
            "Epoch: 1000, MSE: 0.003140\n",
            "Epoch: 2000, MSE: 0.000913\n",
            "Epoch: 3000, MSE: 0.000337\n",
            "Epoch: 4000, MSE: 0.000113\n",
            "Epoch: 5000, MSE: 0.000067\n",
            "Epoch: 6000, MSE: 0.000062\n",
            "Epoch: 7000, MSE: 0.000035\n",
            "Epoch: 8000, MSE: 0.000029\n",
            "Epoch: 9000, MSE: 0.000025\n",
            "Epoch: 10000, MSE: 0.000021\n",
            "Epoch: 11000, MSE: 0.000230\n",
            "Epoch: 12000, MSE: 0.000018\n",
            "Epoch: 13000, MSE: 0.000053\n",
            "Epoch: 14000, MSE: 0.000391\n",
            "Epoch: 15000, MSE: 0.000278\n",
            "Epoch: 16000, MSE: 0.000012\n",
            "Epoch: 17000, MSE: 0.000016\n",
            "Epoch: 18000, MSE: 0.000011\n",
            "Epoch: 19000, MSE: 0.000015\n",
            "Epoch: 20000, MSE: 0.000163\n",
            "Epoch: 21000, MSE: 0.000013\n",
            "Epoch: 22000, MSE: 0.000009\n",
            "Epoch: 23000, MSE: 0.000011\n",
            "Epoch: 24000, MSE: 0.000008\n",
            "Epoch: 25000, MSE: 0.000007\n",
            "Epoch: 26000, MSE: 0.000007\n",
            "Epoch: 27000, MSE: 0.000007\n",
            "Epoch: 28000, MSE: 0.000109\n",
            "Epoch: 29000, MSE: 0.000017\n",
            "Epoch: 30000, MSE: 0.000006\n",
            "Epoch: 31000, MSE: 0.000005\n",
            "Epoch: 32000, MSE: 0.000052\n",
            "Epoch: 33000, MSE: 0.000005\n",
            "Epoch: 34000, MSE: 0.000006\n",
            "Epoch: 35000, MSE: 0.000005\n",
            "total training time in minutes: 31.915126125017803\n"
          ],
          "name": "stdout"
        }
      ]
    },
    {
      "cell_type": "code",
      "metadata": {
        "colab": {
          "base_uri": "https://localhost:8080/",
          "height": 464
        },
        "id": "3XQprPY3eLjO",
        "outputId": "ae2dd207-ffad-409c-e5ba-130f2ef56477"
      },
      "source": [
        "A_hist = np.array(A_hist)\n",
        "fig = plt.figure(figsize=(15, 5))\n",
        "ax = fig.add_axes([0, 0, 1, 1])\n",
        "# Show the major grid lines with dark grey lines\n",
        "ax.grid(b=True, which='major', color='#666666', linestyle='-')\n",
        "# Show the minor grid lines with very faint and almost transparent grey lines\n",
        "ax.minorticks_on()\n",
        "ax.grid(b=True, which='minor', color='#555555', linestyle='-', alpha=0.1)\n",
        "ax.plot(A_hist[:,0], A_hist[:,1],linewidth=2, label='')\n",
        "ax.legend( loc='best', frameon=True, fontsize=22)\n",
        "ax.semilogy()\n",
        "ax.set_xlabel('Epochs', labelpad=10)\n",
        "ax.set_ylabel('Training Loss', labelpad=10)\n",
        "#plt.savefig('2Dneurons1.png', dpi=300, transparent=False, bbox_inches='tight')"
      ],
      "execution_count": null,
      "outputs": [
        {
          "output_type": "stream",
          "text": [
            "No handles with labels found to put in legend.\n"
          ],
          "name": "stderr"
        },
        {
          "output_type": "execute_result",
          "data": {
            "text/plain": [
              "Text(0, 0.5, 'Training Loss')"
            ]
          },
          "metadata": {
            "tags": []
          },
          "execution_count": 13
        },
        {
          "output_type": "display_data",
          "data": {
            "image/png": "[encoded data removed]",
            "text/plain": [
              "<Figure size 1080x360 with 1 Axes>"
            ]
          },
          "metadata": {
            "tags": [],
            "needs_background": "light"
          }
        }
      ]
    },
    {
      "cell_type": "markdown",
      "metadata": {
        "id": "6a7Cl2Qxnw9e"
      },
      "source": [
        "##Plot at different time step"
      ]
    },
    {
      "cell_type": "code",
      "metadata": {
        "id": "98K5xdRK6Erq"
      },
      "source": [
        "#Save the model\n",
        "path = '2-Diffusion_PDE4.pth'\n",
        "torch.save(mlp.state_dict(), path)"
      ],
      "execution_count": null,
      "outputs": []
    },
    {
      "cell_type": "code",
      "metadata": {
        "id": "LqtT_Us-pB2N"
      },
      "source": [
        "#Load the model\n",
        "path = '/content/2-Diffusion_PDE4.pth'\n",
        "mlp.load_state_dict(torch.load(path))\n",
        "mlp.eval()"
      ],
      "execution_count": null,
      "outputs": []
    },
    {
      "cell_type": "code",
      "metadata": {
        "id": "_GDuUeZtYQXu"
      },
      "source": [
        "#Load the model for C++\n",
        "# Load a sample image\n",
        "model = MLP(layers)\n",
        "state_dict = torch.load(path)\n",
        "model.load_state_dict(state_dict)\n",
        "model.eval()\n",
        "example = torch.rand([1,3])\n",
        "\n",
        "# run the tracing\n",
        "traced_script_module = torch.jit.trace(model, example)\n",
        "# save the converted model\n",
        "#traced_script_module.save(\"Diffusion_PDE.pt\")\n",
        "torch.jit.save(traced_script_module,\"2D-Diffusion_PDE.pt\")\n",
        "loaded = torch.jit.load(\"2D-Diffusion_PDE.pt\")"
      ],
      "execution_count": null,
      "outputs": []
    },
    {
      "cell_type": "code",
      "metadata": {
        "id": "JsjAA6YyeuRO"
      },
      "source": [
        "def build_mesh(N, t):\n",
        "    x = np.linspace(0,1,N)\n",
        "    y = np.linspace(0,1,N)\n",
        "    _t = np.array([t])\n",
        "    m = np.meshgrid(x,y, _t)\n",
        "    m = np.stack(m, -1).reshape(-1, 3)\n",
        "    #m = (m - lb)/(ub - lb)\n",
        "    return x, y, m\n",
        "\n",
        "def build_mesh1(N, t):\n",
        "    x = np.linspace(0,1,N)\n",
        "    y = np.linspace(0,1,N)\n",
        "    _t = np.array([t])\n",
        "    x,y,t = np.meshgrid(x,y, _t)\n",
        "n = 20\n",
        "t = 0"
      ],
      "execution_count": null,
      "outputs": []
    },
    {
      "cell_type": "code",
      "metadata": {
        "id": "mfRTKtn506hC"
      },
      "source": [
        "def central_difference():\n",
        "    return u[n][i][j] + delta_t*(alpha * (u[n][i+1][j] +u[n][i-1][j] + u[n][i][j+1] + u[n][i][j-1] - 4*u[n][i][j])/(delta_x)**2)\n",
        "\n",
        "def initial(x,y):\n",
        "  x = x[1:-1]\n",
        "  y = y[1:-1]\n",
        "  x,y = np.meshgrid(x,y)\n",
        "  return np.sin(np.pi*x)*np.sin(np.pi*y)\n",
        "\n",
        "points_in_x = 20\n",
        "points_in_y = 20\n",
        "alpha = .1\n",
        "\n",
        "x =np.linspace(0,1,points_in_x)\n",
        "delta_x = x[1] - x[0]\n",
        "\n",
        "y =np.linspace(0,1,points_in_x)\n",
        "delta_y = y[1] - y[0]\n",
        "\n",
        "\n",
        "delta_t = 0.5*(delta_x**2*delta_y**2)/((delta_x**2 + delta_y**2)*alpha)\n",
        "#delta_t = .02\n",
        "points_in_t = 1./delta_t\n",
        "points_in_t = int(points_in_t)\n",
        "\n",
        "t = np.linspace(0,1,points_in_t)\n",
        "\n",
        "u = np.zeros((len(t), len(x), len(y)))\n",
        "\n",
        "u[: , 0,:] = 0                         # left boundary\n",
        "u[: , len(x)-1,:] = 0\n",
        "u[:,:,0] = 0\n",
        "u[:,:,len(y)-1] = 0\n",
        "u[0,1:len(x)-1,1:len(y)-1] = initial(x,y) \n",
        "\n",
        "\n",
        "\n",
        "for n in range(0 , len(t)-1):\n",
        "    for i in range(1 , len(x)-1):\n",
        "        for j in range(1,len(y)-1):\n",
        "            u[n+1][i][j] = central_difference()"
      ],
      "execution_count": null,
      "outputs": []
    },
    {
      "cell_type": "code",
      "metadata": {
        "id": "esUUxNjPq7n4"
      },
      "source": [
        "n = 20\n",
        "def build_mesh(N, t):\n",
        "    x = np.linspace(0,1,N)\n",
        "    y = np.linspace(0,1,N)\n",
        "    _t = np.array([t])\n",
        "    m = np.meshgrid(x,y, _t)\n",
        "    m = np.stack(m, -1).reshape(-1, 3)\n",
        "    \n",
        "    return x, y, m\n",
        "\n",
        "def build_mesh1(N, t):\n",
        "    x = np.linspace(0,1,N)\n",
        "    y = np.linspace(0,1,N)\n",
        "    _t = np.array([t])\n",
        "    x,y,t = np.meshgrid(x,y, _t)\n",
        "    return x, y, t\n",
        "\n",
        "x1, y1, m1 = build_mesh(n, 0)\n",
        "x2, y2, m2 = build_mesh(n, .25)\n",
        "x3, y3, m3 = build_mesh(n, .5)\n",
        "x4, y4, m4 = build_mesh(n, .75)\n",
        "x5, y5, m5 = build_mesh(n, 1)\n",
        "\n",
        "xe1, ye1, te1 = build_mesh1(n, 0)\n",
        "xe2, ye2, te2 = build_mesh1(n, .25)\n",
        "xe3, ye3, te3 = build_mesh1(n, .5)\n",
        "xe4, ye4, te4 = build_mesh1(n, .75)\n",
        "xe5, ye5, te5 = build_mesh1(n, 1)"
      ],
      "execution_count": null,
      "outputs": []
    },
    {
      "cell_type": "code",
      "metadata": {
        "id": "scK98AOtsCaS"
      },
      "source": [
        "def eval_model(m):\n",
        "    mlp.eval()\n",
        "    with torch.no_grad():\n",
        "        p = mlp(torch.tensor(m).float().to(device)).cpu().numpy()\n",
        "    return np.abs(p)\n",
        "\n",
        "p1 = eval_model(m1)\n",
        "p2 = eval_model(m2)\n",
        "p3 = eval_model(m3)\n",
        "p4 = eval_model(m4)\n",
        "p5= eval_model(m5)"
      ],
      "execution_count": null,
      "outputs": []
    },
    {
      "cell_type": "code",
      "metadata": {
        "id": "89JReeuZO7br"
      },
      "source": [
        "def plot_model(x, y,p,x1,y1,t,u_fdm):\n",
        "    pe = np.sin(np.pi*y1)*np.sin(np.pi*x1)*np.exp((-.1*t)*(2*np.pi**2))\n",
        "    fig = plt.figure(figsize=(8, 5))\n",
        "    ax = fig.add_axes([0, 0, 1, 1])\n",
        "    img1 = ax.contour(x,y,pe.reshape(-1,n),linewidths=5,levels=np.linspace(0, 1, 10),colors='k', linestyles='solid')\n",
        "    #plt.clabel(img, inline=2, fontsize=20)\n",
        "    img2 = ax.contour(x,y,u_fdm.reshape(-1,n),linewidths=5,levels=np.linspace(0, 1, 10),colors='green', linestyles='loosely dotted')\n",
        "    #plt.clabel(img, inline=1, fontsize=5)\n",
        "    img3 = ax.contour(x,y,p.reshape(-1,n),linewidths=5,levels=np.linspace(0, 1, 10),colors='red', linestyles='dotted')\n",
        "    #plt.clabel(img3, inline=1, fontsize=20)\n",
        "    \n",
        "    \n",
        "\n",
        "\n",
        "\n",
        "    ax.grid(b=True, which='major', color='#666666', linestyle='-')\n",
        "    # Show the minor grid lines with very faint and almost transparent grey lines\n",
        "    ax.minorticks_on()\n",
        "    ax.grid(b=True, which='minor', color='#555555', linestyle='-', alpha=0.1)\n",
        "    \n",
        "    ax.set_xlabel('x', labelpad=10)\n",
        "    ax.set_ylabel('y', labelpad=10)\n",
        "    \n",
        "    #h1,_ = img1.legend_elements()\n",
        "    #h2,_ = img2.legend_elements()\n",
        "    #h3,_ = img3.legend_elements()\n",
        "    #ax.legend([h1[0], h2[0]], ['Contour 1', 'Contour 2'])\n",
        "   \n",
        "           \n",
        "    #ax.legend([h1[0], h2[0], h3[0]], ['Exact', 'FDM', 'NN'],loc='upper center', bbox_to_anchor=(0.5, -0.2),frameon=False, shadow=False, ncol=3, fontsize=22)\n",
        "    #l2 = np.sqrt(np.sum((pe.reshape(-1,n)-p.reshape(-1,n))**2))/(np.sqrt(np.sum(pe.reshape(-1,n))**2))\n",
        "    #l2_fdm = np.sqrt(np.sum((pe.reshape(-1,n)-u_fdm.reshape(-1,n))**2))/(np.sqrt(np.sum(pe.reshape(-1,n))**2))\n",
        "    #print('l2_NN',l2,'l2_fdm',l2_fdm)\n",
        "    #plt.title(f\"t = {t:.3f} (L2_NN = {l2:.7f}) (L2_FDM = {l2_fdm:.7f})\")\n",
        "    #plt.savefig(f\"t = str(t).png\", dpi=600, transparent=False, bbox_inches='tight')\n",
        "    #plt.show()"
      ],
      "execution_count": null,
      "outputs": []
    },
    {
      "cell_type": "code",
      "metadata": {
        "id": "MyUxePTasIE6"
      },
      "source": [
        "plot_model(x1,y1, p1, xe1, ye1, te1, u[0,:])\n",
        "#plot_model(x2,y2, p2, xe2, ye2, te2, u[35,:])\n",
        "#plot_model(x3,y3, p3, xe3, ye3, te3, u[71,:])\n",
        "#plot_model(x4,y4, p4, xe4, ye4, te4, u[107,:])\n",
        "#plot_model(x5,y5, p5, xe5, ye5, te5, u[-1,:])"
      ],
      "execution_count": null,
      "outputs": []
    }
  ]
}